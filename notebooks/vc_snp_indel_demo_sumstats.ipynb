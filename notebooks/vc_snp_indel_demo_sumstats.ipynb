{
 "cells": [
  {
   "cell_type": "code",
   "execution_count": 1,
   "metadata": {},
   "outputs": [],
   "source": [
    "import sys\n",
    "sys.path.append(\"../../src\")\n",
    "from sumstats import plot_hist\n",
    "from sumstats import class_count\n",
    "\n",
    "import os\n",
    "import numpy as np\n",
    "import pandas as pd\n",
    "import matplotlib.pyplot as plt\n",
    "%matplotlib inline"
   ]
  },
  {
   "cell_type": "markdown",
   "metadata": {},
   "source": [
    "# Import aligned and frequency-reduced variant counts\n",
    "These tables have been aligned with the subtype target, and eliminated features that are nonzero in <0.05 or >0.95 of subjects."
   ]
  },
  {
   "cell_type": "code",
   "execution_count": 2,
   "metadata": {},
   "outputs": [],
   "source": [
    "wes_dn = \"../wes/data\"\n",
    "\n",
    "vc = pd.read_csv(os.path.join(wes_dn, \"200825_aligned_applythres_vc.csv\"), header=0, index_col=0)\n",
    "snpvc = pd.read_csv(os.path.join(wes_dn, \"200825_aligned_applythres_snp_vc.csv\"), header=0, index_col=0)\n",
    "indelvc = pd.read_csv(os.path.join(wes_dn, \"200825_aligned_applythres_indel_vc.csv\"), header=0, index_col=0)"
   ]
  },
  {
   "cell_type": "markdown",
   "metadata": {},
   "source": [
    "# Import subtype"
   ]
  },
  {
   "cell_type": "code",
   "execution_count": 3,
   "metadata": {},
   "outputs": [],
   "source": [
    "subtype_fn = \"aligned_subtype.csv\"\n",
    "\n",
    "st = pd.read_csv(os.path.join(wes_dn, subtype_fn), index_col=0, header=0)"
   ]
  },
  {
   "cell_type": "code",
   "execution_count": 4,
   "metadata": {},
   "outputs": [
    {
     "data": {
      "text/html": [
       "<div>\n",
       "<style scoped>\n",
       "    .dataframe tbody tr th:only-of-type {\n",
       "        vertical-align: middle;\n",
       "    }\n",
       "\n",
       "    .dataframe tbody tr th {\n",
       "        vertical-align: top;\n",
       "    }\n",
       "\n",
       "    .dataframe thead th {\n",
       "        text-align: right;\n",
       "    }\n",
       "</style>\n",
       "<table border=\"1\" class=\"dataframe\">\n",
       "  <thead>\n",
       "    <tr style=\"text-align: right;\">\n",
       "      <th></th>\n",
       "      <th>Counts</th>\n",
       "    </tr>\n",
       "  </thead>\n",
       "  <tbody>\n",
       "    <tr>\n",
       "      <th>Subtype 1</th>\n",
       "      <td>172</td>\n",
       "    </tr>\n",
       "    <tr>\n",
       "      <th>Subtype 2</th>\n",
       "      <td>47</td>\n",
       "    </tr>\n",
       "    <tr>\n",
       "      <th>Subtype 3</th>\n",
       "      <td>132</td>\n",
       "    </tr>\n",
       "  </tbody>\n",
       "</table>\n",
       "</div>"
      ],
      "text/plain": [
       "           Counts\n",
       "Subtype 1     172\n",
       "Subtype 2      47\n",
       "Subtype 3     132"
      ]
     },
     "metadata": {},
     "output_type": "display_data"
    }
   ],
   "source": [
    "cc_table = class_count(np.array(st, dtype=int).ravel())\n",
    "display(cc_table)"
   ]
  },
  {
   "cell_type": "markdown",
   "metadata": {},
   "source": [
    "# Summary stats of original count matrix"
   ]
  },
  {
   "cell_type": "code",
   "execution_count": 5,
   "metadata": {},
   "outputs": [
    {
     "data": {
      "image/png": "[encoded data removed]",
      "text/plain": [
       "<Figure size 1008x288 with 2 Axes>"
      ]
     },
     "metadata": {
      "needs_background": "light"
     },
     "output_type": "display_data"
    }
   ],
   "source": [
    "plot_hist(np.array(vc))"
   ]
  },
  {
   "cell_type": "code",
   "execution_count": 6,
   "metadata": {},
   "outputs": [
    {
     "name": "stdout",
     "output_type": "stream",
     "text": [
      "Mean number of variants per patient: 767.0 (+/-108.7)\n",
      "Mean number of patients with variant per gene: 116.0 (+/-93.1): \n"
     ]
    }
   ],
   "source": [
    "print(\"Mean number of variants per patient: {:.1f} (+/-{:.1f})\".format(np.mean(np.sum(vc, axis=1)), np.std(np.sum(vc, axis=1))))\n",
    "\n",
    "X = np.array(vc)\n",
    "vals = []\n",
    "for i in range(X.shape[1]):\n",
    "    ct = 0\n",
    "    for j in range(len(X[:,i])):\n",
    "        if X[j,i] > 0:\n",
    "            ct += 1\n",
    "        else:\n",
    "            continue\n",
    "    vals.append(ct)\n",
    "print(\"Mean number of patients with variant per gene: {:.1f} (+/-{:.1f}): \".format(np.mean(vals), np.std(vals)))"
   ]
  },
  {
   "cell_type": "markdown",
   "metadata": {},
   "source": [
    "# Assess whether (snp + indels) match count in original matrix"
   ]
  },
  {
   "cell_type": "code",
   "execution_count": 7,
   "metadata": {},
   "outputs": [
    {
     "name": "stdout",
     "output_type": "stream",
     "text": [
      "The number of columns where counts DO NOT add up:  0\n"
     ]
    }
   ],
   "source": [
    "f_index = [] # indices where sum doesn't match will be stored here \n",
    "for i in range(len(vc.columns)): # for all genes in original VC columns\n",
    "    origcol = vc.iloc[:,i]\n",
    "    colname = vc.columns[i]\n",
    "    snpcol = snpvc.loc[:][colname]\n",
    "    indelcol = indelvc.loc[:][colname]\n",
    "    if all((np.array(snpcol) + np.array(indelcol)) == np.array(origcol)):\n",
    "        continue\n",
    "    else:\n",
    "        f_index.append(i)\n",
    "\n",
    "print(\"The number of columns where counts DO NOT add up: \", len(f_index))"
   ]
  },
  {
   "cell_type": "markdown",
   "metadata": {},
   "source": [
    "# Summary statistics of SNPs"
   ]
  },
  {
   "cell_type": "code",
   "execution_count": 8,
   "metadata": {},
   "outputs": [
    {
     "data": {
      "image/png": "[encoded data removed]",
      "text/plain": [
       "<Figure size 1008x288 with 2 Axes>"
      ]
     },
     "metadata": {
      "needs_background": "light"
     },
     "output_type": "display_data"
    }
   ],
   "source": [
    "from sumstats import plot_hist\n",
    "plot_hist(np.array(snpvc))"
   ]
  },
  {
   "cell_type": "code",
   "execution_count": 9,
   "metadata": {},
   "outputs": [
    {
     "name": "stdout",
     "output_type": "stream",
     "text": [
      "Mean number of SNPs per patient: 546.1 (+/-66.5)\n",
      "Mean number of patients with a SNP per gene: 91.5 (+/-93.2): \n"
     ]
    }
   ],
   "source": [
    "print(\"Mean number of SNPs per patient: {:.1f} (+/-{:.1f})\".format(np.mean(np.sum(snpvc, axis=1)), np.std(np.sum(snpvc, axis=1))))\n",
    "\n",
    "X = np.array(snpvc)\n",
    "vals = []\n",
    "for i in range(X.shape[1]):\n",
    "    ct = 0\n",
    "    for j in range(len(X[:,i])):\n",
    "        if X[j,i] > 0:\n",
    "            ct += 1\n",
    "        else:\n",
    "            continue\n",
    "    vals.append(ct)\n",
    "print(\"Mean number of patients with a SNP per gene: {:.1f} (+/-{:.1f}): \".format(np.mean(vals), np.std(vals)))"
   ]
  },
  {
   "cell_type": "markdown",
   "metadata": {},
   "source": [
    "# Summary statistics of indels"
   ]
  },
  {
   "cell_type": "code",
   "execution_count": 10,
   "metadata": {},
   "outputs": [
    {
     "data": {
      "image/png": "[encoded data removed]",
      "text/plain": [
       "<Figure size 1008x288 with 2 Axes>"
      ]
     },
     "metadata": {
      "needs_background": "light"
     },
     "output_type": "display_data"
    }
   ],
   "source": [
    "plot_hist(np.array(indelvc))"
   ]
  },
  {
   "cell_type": "code",
   "execution_count": 11,
   "metadata": {},
   "outputs": [
    {
     "name": "stdout",
     "output_type": "stream",
     "text": [
      "Mean number of indels per patient: 220.9 (+/-45.1)\n",
      "Mean number of patients with a indel per gene: 33.6 (+/-67.1): \n"
     ]
    }
   ],
   "source": [
    "print(\"Mean number of indels per patient: {:.1f} (+/-{:.1f})\".format(np.mean(np.sum(indelvc, axis=1)), np.std(np.sum(indelvc, axis=1))))\n",
    "\n",
    "X = np.array(indelvc)\n",
    "vals = []\n",
    "for i in range(X.shape[1]):\n",
    "    ct = 0\n",
    "    for j in range(len(X[:,i])):\n",
    "        if X[j,i] > 0:\n",
    "            ct += 1\n",
    "        else:\n",
    "            continue\n",
    "    vals.append(ct)\n",
    "print(\"Mean number of patients with a indel per gene: {:.1f} (+/-{:.1f}): \".format(np.mean(vals), np.std(vals)))"
   ]
  },
  {
   "cell_type": "markdown",
   "metadata": {},
   "source": [
    "# Boxplots of number of variants"
   ]
  },
  {
   "cell_type": "code",
   "execution_count": 12,
   "metadata": {},
   "outputs": [],
   "source": [
    "def boxplots(vc, snpvc, indelvc, target): # add \"allvc, allsnp, allindel,\"  for non-deleterious mutations\n",
    "    sumstats = {}\n",
    "    sumstats[\"all\"] = {\"mean\" : np.mean(np.sum(vc, axis=1)), \"sd\" : np.std(np.sum(vc, axis=1))}\n",
    "    sumstats[\"snp\"] = {\"mean\" : np.mean(np.sum(snpvc, axis=1)), \"sd\" : np.std(np.sum(snpvc, axis=1))}\n",
    "    sumstats[\"indel\"] = {\"mean\" : np.mean(np.sum(indelvc, axis=1)), \"sd\" : np.std(np.sum(indelvc, axis=1))}\n",
    "    \n",
    "    labels = [\"All\", \"SNPs\", \"Indels\"]\n",
    "    subtypes = [\"Subtype I\", \"Subtype II\", \"Subtype III\"]\n",
    "    fs = 16\n",
    "    \n",
    "    fig, axes = plt.subplots(nrows=1, ncols=3, figsize=(12, 6), sharey=True)\n",
    "    \n",
    "    for i in range(3):\n",
    "        data = np.concatenate((\n",
    "                np.array(np.sum(vc.iloc[(st == (i+1)).values, :], axis=1)).reshape((-1,1)), \n",
    "                np.array(np.sum(snpvc.iloc[(st == (i+1)).values, :], axis=1)).reshape((-1,1)), \n",
    "                np.array(np.sum(indelvc.iloc[(st == (i+1)).values, :], axis=1)).reshape((-1,1))\n",
    "            ), axis=1\n",
    "        )\n",
    "        \n",
    "        axes[i].boxplot(data, labels=labels, widths=(.6, .6, .6)) # add \"showfliers=False\" to not show the ones outside the whiskers \n",
    "        axes[i].set_title(subtypes[i], fontsize=fs)\n",
    "        \n",
    "    axes[0].set_ylabel(\"Number of variants\", fontsize=fs)\n",
    "\n",
    "#     for i in range(3):\n",
    "#         data = np.concatenate((\n",
    "#                 np.array(np.sum(vc.iloc[(st == (i+1)).values, :], axis=1)).reshape((-1,1)), \n",
    "#                 np.array(np.sum(snpvc.iloc[(st == (i+1)).values, :], axis=1)).reshape((-1,1)), \n",
    "#                 np.array(np.sum(indelvc.iloc[(st == (i+1)).values, :], axis=1)).reshape((-1,1))\n",
    "#             ), axis=1\n",
    "#         )\n",
    "        \n",
    "#         axes[1, i].boxplot(data, labels=labels) # add \"showfliers=False\" to not show the ones outside the whiskers \n",
    "#         axes[1, i].set_title(subtypes[i], fontsize=fs)\n",
    "\n",
    "    fig.subplots_adjust(hspace=0.4)\n",
    "    \n",
    "    return sumstats, fig"
   ]
  },
  {
   "cell_type": "code",
   "execution_count": 13,
   "metadata": {},
   "outputs": [
    {
     "data": {
      "image/png": "[encoded data removed]",
      "text/plain": [
       "<Figure size 864x432 with 3 Axes>"
      ]
     },
     "metadata": {
      "needs_background": "light"
     },
     "output_type": "display_data"
    }
   ],
   "source": [
    "sumstats, fig = boxplots(vc, snpvc, indelvc, st)\n",
    "# fig.savefig(\"vc_snp_indel_boxplots.png\")"
   ]
  },
  {
   "cell_type": "markdown",
   "metadata": {},
   "source": [
    "# Demographic summary stats"
   ]
  },
  {
   "cell_type": "code",
   "execution_count": 14,
   "metadata": {},
   "outputs": [],
   "source": [
    "from AddDemographic import DemoData"
   ]
  },
  {
   "cell_type": "code",
   "execution_count": 15,
   "metadata": {},
   "outputs": [],
   "source": [
    "demo_df = DemoData(\"../demo_data/Screening___Demographics.csv\", patid_list=vc.index)"
   ]
  },
  {
   "cell_type": "code",
   "execution_count": 16,
   "metadata": {},
   "outputs": [
    {
     "name": "stdout",
     "output_type": "stream",
     "text": [
      "Subtype I & Male:  107\n",
      "Subtype II & Male:  27\n",
      "Subtype III & Male:  95\n",
      "\n",
      "Subtype I & Female:  52\n",
      "Subtype II & Female:  17\n",
      "Subtype III & Female:  33\n",
      "\n",
      "Subtype I & Unspecified:  13\n",
      "Subtype I & Unspecified:  3\n",
      "Subtype I & Unspecified:  4\n"
     ]
    }
   ],
   "source": [
    "# Gender compositions of the subtypes\n",
    "print(\"Subtype I & Male: \", np.sum((demo_df[\"Gender 2\"] == 1) & np.array(st == 1).reshape((-1,))))\n",
    "print(\"Subtype II & Male: \", np.sum((demo_df[\"Gender 2\"] == 1) & np.array(st == 2).reshape((-1,))))\n",
    "print(\"Subtype III & Male: \", np.sum((demo_df[\"Gender 2\"] == 1) & np.array(st == 3).reshape((-1,))))\n",
    "print(\"\")\n",
    "print(\"Subtype I & Female: \", np.sum((demo_df[\"Gender 1\"] == 1) & np.array(st == 1).reshape((-1,))))\n",
    "print(\"Subtype II & Female: \", np.sum((demo_df[\"Gender 1\"] == 1) & np.array(st == 2).reshape((-1,))))\n",
    "print(\"Subtype III & Female: \", np.sum((demo_df[\"Gender 1\"] == 1) & np.array(st == 3).reshape((-1,))))\n",
    "print(\"\")\n",
    "print(\"Subtype I & Unspecified: \", np.sum(((demo_df[\"Gender 1\"] != 1) & (demo_df[\"Gender 2\"] != 1)) & np.array(st == 1).reshape((-1,))))\n",
    "print(\"Subtype I & Unspecified: \", np.sum(((demo_df[\"Gender 1\"] != 1) & (demo_df[\"Gender 2\"] != 1)) & np.array(st == 2).reshape((-1,))))\n",
    "print(\"Subtype I & Unspecified: \", np.sum(((demo_df[\"Gender 1\"] != 1) & (demo_df[\"Gender 2\"] != 1)) & np.array(st == 3).reshape((-1,))))"
   ]
  },
  {
   "cell_type": "code",
   "execution_count": 17,
   "metadata": {},
   "outputs": [
    {
     "name": "stdout",
     "output_type": "stream",
     "text": [
      "Overall Asian:  8\n",
      "Overall Black:  7\n",
      "Overall White:  334\n",
      "Overall Unspecified:  4\n",
      "\n",
      "Subtype I & Asian:  3\n",
      "Subtype II & Asian:  1\n",
      "Subtype III & Asian:  4\n",
      "\n",
      "Subtype I & Black:  1\n",
      "Subtype II & Black:  2\n",
      "Subtype III & Black:  4\n",
      "\n",
      "Subtype I & White:  167\n",
      "Subtype II & White:  45\n",
      "Subtype III & White:  122\n",
      "\n",
      "Subtype I & Unspecified:  2\n",
      "Subtype II & Unspecified:  0\n",
      "Subtype III & Unspecified:  2\n"
     ]
    }
   ],
   "source": [
    "# Race compositions of the subtypes\n",
    "print(\"Overall Asian: \", np.sum((demo_df[\"Asian\"] == 1)))\n",
    "print(\"Overall Black: \", np.sum((demo_df[\"Black\"] == 1)))\n",
    "print(\"Overall White: \", np.sum((demo_df[\"White\"] >= 1)))\n",
    "print(\"Overall Unspecified: \", np.sum((demo_df[\"Asian\"] == 1) & np.array(st == 3).reshape((-1,))))\n",
    "print(\"\")\n",
    "print(\"Subtype I & Asian: \", np.sum((demo_df[\"Asian\"] == 1) & np.array(st == 1).reshape((-1,))))\n",
    "print(\"Subtype II & Asian: \", np.sum((demo_df[\"Asian\"] == 1) & np.array(st == 2).reshape((-1,))))\n",
    "print(\"Subtype III & Asian: \", np.sum((demo_df[\"Asian\"] == 1) & np.array(st == 3).reshape((-1,))))\n",
    "print(\"\")\n",
    "print(\"Subtype I & Black: \", np.sum((demo_df[\"Black\"] == 1) & np.array(st == 1).reshape((-1,))))\n",
    "print(\"Subtype II & Black: \", np.sum((demo_df[\"Black\"] == 1) & np.array(st == 2).reshape((-1,))))\n",
    "print(\"Subtype III & Black: \", np.sum((demo_df[\"Black\"] == 1) & np.array(st == 3).reshape((-1,))))\n",
    "print(\"\")\n",
    "print(\"Subtype I & White: \", np.sum((demo_df[\"White\"] >= 1) & np.array(st == 1).reshape((-1,))))\n",
    "print(\"Subtype II & White: \", np.sum((demo_df[\"White\"] >= 1) & np.array(st == 2).reshape((-1,))))\n",
    "print(\"Subtype III & White: \", np.sum((demo_df[\"White\"] >= 1) & np.array(st == 3).reshape((-1,))))\n",
    "print(\"\")\n",
    "print(\"Subtype I & Unspecified: \", np.sum((np.sum(demo_df.loc[:][[\"Asian\", \"Black\", \"White\"]], axis=1) == 0) & np.array(st == 1).reshape((-1,))))\n",
    "print(\"Subtype II & Unspecified: \", np.sum((np.sum(demo_df.loc[:][[\"Asian\", \"Black\", \"White\"]], axis=1) == 0) & np.array(st == 2).reshape((-1,))))\n",
    "print(\"Subtype III & Unspecified: \", np.sum((np.sum(demo_df.loc[:][[\"Asian\", \"Black\", \"White\"]], axis=1) == 0) & np.array(st == 3).reshape((-1,))))"
   ]
  },
  {
   "cell_type": "code",
   "execution_count": 18,
   "metadata": {},
   "outputs": [],
   "source": [
    "age_one = demo_df[\"Age\"].values[np.array(st).reshape((-1,)) == 1]\n",
    "age_two = demo_df[\"Age\"].values[np.array(st).reshape((-1,)) == 2]\n",
    "age_three = demo_df[\"Age\"].values[np.array(st).reshape((-1,)) == 3]"
   ]
  },
  {
   "cell_type": "code",
   "execution_count": 19,
   "metadata": {},
   "outputs": [
    {
     "name": "stdout",
     "output_type": "stream",
     "text": [
      "Mean age of patients in Subtype I: 58.27 (+/-9.5)\n",
      "Mean age of patients in Subtype I: 63.04 (+/-9.7)\n",
      "Mean age of patients in Subtype I: 65.33 (+/-8.4)\n"
     ]
    }
   ],
   "source": [
    "print(\"Mean age of patients in Subtype I: {:.2f} (+/-{:.1f})\".format(np.mean(age_one), np.std(age_one)))\n",
    "print(\"Mean age of patients in Subtype I: {:.2f} (+/-{:.1f})\".format(np.mean(age_two), np.std(age_two)))\n",
    "print(\"Mean age of patients in Subtype I: {:.2f} (+/-{:.1f})\".format(np.mean(age_three), np.std(age_three)))"
   ]
  },
  {
   "cell_type": "code",
   "execution_count": 20,
   "metadata": {},
   "outputs": [
    {
     "name": "stdout",
     "output_type": "stream",
     "text": [
      "61.56410256410256 9.725624463403664\n"
     ]
    }
   ],
   "source": [
    "print(np.mean(demo_df[\"Age\"]), np.std(demo_df[\"Age\"]))"
   ]
  },
  {
   "cell_type": "code",
   "execution_count": 21,
   "metadata": {},
   "outputs": [
    {
     "data": {
      "text/plain": [
       "Text(0.5, 1.0, 'Histogram of age')"
      ]
     },
     "execution_count": 21,
     "metadata": {},
     "output_type": "execute_result"
    },
    {
     "data": {
      "image/png": "[encoded data removed]",
      "text/plain": [
       "<Figure size 432x288 with 1 Axes>"
      ]
     },
     "metadata": {
      "needs_background": "light"
     },
     "output_type": "display_data"
    }
   ],
   "source": [
    "plt.hist(demo_df[\"Age\"])\n",
    "plt.title(\"Histogram of age\", size=16)"
   ]
  },
  {
   "cell_type": "code",
   "execution_count": 22,
   "metadata": {},
   "outputs": [
    {
     "data": {
      "text/plain": [
       "Text(0.5, 1.0, 'Bar graph of gender composition')"
      ]
     },
     "execution_count": 22,
     "metadata": {},
     "output_type": "execute_result"
    },
    {
     "data": {
      "image/png": "[encoded data removed]",
      "text/plain": [
       "<Figure size 432x288 with 1 Axes>"
      ]
     },
     "metadata": {
      "needs_background": "light"
     },
     "output_type": "display_data"
    }
   ],
   "source": [
    "plt.bar(\n",
    "    [0,1,2], \n",
    "    [np.sum((demo_df[\"Gender 1\"] != 1) & (demo_df[\"Gender 2\"] != 1)), # neither one or two\n",
    "     np.sum(demo_df[\"Gender 1\"] == 1), # gender 1\n",
    "     np.sum(demo_df[\"Gender 2\"] == 1)], # gender 2\n",
    "    tick_label=[\"0\", \"1\", \"2\"]\n",
    ")\n",
    "plt.title(\"Bar graph of gender composition\", size=16)"
   ]
  },
  {
   "cell_type": "code",
   "execution_count": 23,
   "metadata": {},
   "outputs": [
    {
     "data": {
      "text/plain": [
       "Text(0.5, 1.0, 'Bar graph of race composition')"
      ]
     },
     "execution_count": 23,
     "metadata": {},
     "output_type": "execute_result"
    },
    {
     "data": {
      "image/png": "[encoded data removed]",
      "text/plain": [
       "<Figure size 432x288 with 1 Axes>"
      ]
     },
     "metadata": {
      "needs_background": "light"
     },
     "output_type": "display_data"
    }
   ],
   "source": [
    "plt.bar(\n",
    "    [0,1,2,3,4],\n",
    "    [np.sum(demo_df[\"Asian\"]), \n",
    "     np.sum(demo_df[\"Black\"]), \n",
    "     np.sum(demo_df[\"Islander\"]), \n",
    "     np.sum(demo_df[\"White\"]), \n",
    "     np.sum((demo_df[\"Asian\"] != 1) & (demo_df[\"Black\"] != 1) & (demo_df[\"Islander\"] != 1) & (demo_df[\"White\"] != 1))],\n",
    "    tick_label=[\"Asian\", \"Black\", \"Islander\", \"White\", \"Non-specified\"]\n",
    ")\n",
    "plt.title(\"Bar graph of race composition\", size=16)"
   ]
  },
  {
   "cell_type": "markdown",
   "metadata": {},
   "source": [
    "# Identify subjects with unexpected racial values"
   ]
  },
  {
   "cell_type": "code",
   "execution_count": 24,
   "metadata": {},
   "outputs": [
    {
     "name": "stdout",
     "output_type": "stream",
     "text": [
      "PPMI_SI_3431\n",
      "PPMI_SI_3608\n",
      "PPMI_SI_3900\n",
      "PPMI_SI_4093\n"
     ]
    }
   ],
   "source": [
    "for i in range(demo_df.shape[0]):\n",
    "    if (demo_df[\"Asian\"][i] + demo_df[\"Black\"][i] + demo_df[\"Islander\"][i] + demo_df[\"White\"][i]) > 1:\n",
    "        print(demo_df.index[i])"
   ]
  },
  {
   "cell_type": "code",
   "execution_count": null,
   "metadata": {},
   "outputs": [],
   "source": []
  }
 ],
 "metadata": {
  "kernelspec": {
   "display_name": "Python 3",
   "language": "python",
   "name": "python3"
  },
  "language_info": {
   "codemirror_mode": {
    "name": "ipython",
    "version": 3
   },
   "file_extension": ".py",
   "mimetype": "text/x-python",
   "name": "python",
   "nbconvert_exporter": "python",
   "pygments_lexer": "ipython3",
   "version": "3.7.4"
  }
 },
 "nbformat": 4,
 "nbformat_minor": 2
}
